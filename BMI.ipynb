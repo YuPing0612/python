{
 "cells": [
  {
   "cell_type": "code",
   "execution_count": 2,
   "metadata": {
    "collapsed": false
   },
   "outputs": [
    {
     "name": "stdout",
     "output_type": "stream",
     "text": [
      "Yuor name 妤平\n",
      "Yuor height 166\n",
      "Yuor weight 52\n"
     ]
    }
   ],
   "source": [
    "a=[]\n",
    "name=input('Yuor name ')\n",
    "a.append(name)\n",
    "height=int(input('Yuor height '))\n",
    "a.append(height)\n",
    "weight=int(input('Yuor weight '))\n",
    "a.append(weight)"
   ]
  },
  {
   "cell_type": "code",
   "execution_count": 3,
   "metadata": {
    "collapsed": true
   },
   "outputs": [],
   "source": [
    "def BMI( mylist ):\n",
    "   print (mylist)  \n",
    "   bmi=round(mylist[2]/((mylist[1]/100)**2),2)\n",
    "   return bmi"
   ]
  },
  {
   "cell_type": "code",
   "execution_count": 4,
   "metadata": {
    "collapsed": false
   },
   "outputs": [
    {
     "name": "stdout",
     "output_type": "stream",
     "text": [
      "['妤平', 166, 52]\n"
     ]
    },
    {
     "data": {
      "text/plain": [
       "18.87"
      ]
     },
     "execution_count": 4,
     "metadata": {},
     "output_type": "execute_result"
    }
   ],
   "source": [
    "BMI(a)"
   ]
  },
  {
   "cell_type": "code",
   "execution_count": null,
   "metadata": {
    "collapsed": true
   },
   "outputs": [],
   "source": []
  }
 ],
 "metadata": {
  "kernelspec": {
   "display_name": "Python 3",
   "language": "python",
   "name": "python3"
  },
  "language_info": {
   "codemirror_mode": {
    "name": "ipython",
    "version": 3
   },
   "file_extension": ".py",
   "mimetype": "text/x-python",
   "name": "python",
   "nbconvert_exporter": "python",
   "pygments_lexer": "ipython3",
   "version": "3.6.0"
  }
 },
 "nbformat": 4,
 "nbformat_minor": 2
}
