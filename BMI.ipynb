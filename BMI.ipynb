{
 "cells": [
  {
   "cell_type": "code",
   "execution_count": 1,
   "metadata": {
    "collapsed": false
   },
   "outputs": [],
   "source": [
    "def BMI( mylist ):\n",
    "   #print (mylist)  \n",
    "   bmi=round(mylist[2]/((mylist[1]/100)**2),2)\n",
    "   print ('BMI:'+str(bmi))\n",
    "\n",
    "   if bmi<18.5:\n",
    "     print ('體重過輕唷，需要均衡飲食，以增加體能，維持健康！')\n",
    "   elif 18.5<=bmi<24:\n",
    "     print ('恭喜！體重正常，要繼續保持！')\n",
    "   elif 24<=bmi<27:\n",
    "    print ('體重過重了，要小心囉！')\n",
    "   elif 27<=bmi:\n",
    "    print ('啊～肥胖，需要立刻實施體重管理囉！')\n",
    "        \n",
    "   return "
   ]
  },
  {
   "cell_type": "code",
   "execution_count": 2,
   "metadata": {
    "collapsed": false
   },
   "outputs": [
    {
     "name": "stdout",
     "output_type": "stream",
     "text": [
      "Yuor name 妤平\n",
      "Yuor height 166\n",
      "Yuor weight 53\n"
     ]
    }
   ],
   "source": [
    "a=[]\n",
    "name=input('Yuor name ')\n",
    "a.append(name)\n",
    "height=int(input('Yuor height '))\n",
    "a.append(height)\n",
    "weight=int(input('Yuor weight '))\n",
    "a.append(weight)"
   ]
  },
  {
   "cell_type": "code",
   "execution_count": 3,
   "metadata": {
    "collapsed": false
   },
   "outputs": [
    {
     "name": "stdout",
     "output_type": "stream",
     "text": [
      "BMI:19.23\n",
      "恭喜！體重正常，要繼續保持！\n"
     ]
    }
   ],
   "source": [
    "BMI(a)"
   ]
  },
  {
   "cell_type": "code",
   "execution_count": null,
   "metadata": {
    "collapsed": true
   },
   "outputs": [],
   "source": []
  }
 ],
 "metadata": {
  "kernelspec": {
   "display_name": "Python 3",
   "language": "python",
   "name": "python3"
  },
  "language_info": {
   "codemirror_mode": {
    "name": "ipython",
    "version": 3
   },
   "file_extension": ".py",
   "mimetype": "text/x-python",
   "name": "python",
   "nbconvert_exporter": "python",
   "pygments_lexer": "ipython3",
   "version": "3.6.0"
  }
 },
 "nbformat": 4,
 "nbformat_minor": 2
}
