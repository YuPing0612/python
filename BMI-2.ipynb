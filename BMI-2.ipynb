{
 "cells": [
  {
   "cell_type": "code",
   "execution_count": 1,
   "metadata": {
    "collapsed": false,
    "scrolled": true
   },
   "outputs": [],
   "source": [
    "import pandas as pd\n",
    "import numpy as np\n",
    "\n",
    "data = pd.read_csv('data.csv',sep=',', encoding = \"utf-8\")"
   ]
  },
  {
   "cell_type": "code",
   "execution_count": 2,
   "metadata": {
    "collapsed": false
   },
   "outputs": [
    {
     "data": {
      "text/html": [
       "<div>\n",
       "<table border=\"1\" class=\"dataframe\">\n",
       "  <thead>\n",
       "    <tr style=\"text-align: right;\">\n",
       "      <th></th>\n",
       "      <th>name</th>\n",
       "      <th>height</th>\n",
       "      <th>weight</th>\n",
       "    </tr>\n",
       "  </thead>\n",
       "  <tbody>\n",
       "    <tr>\n",
       "      <th>0</th>\n",
       "      <td>王妤平</td>\n",
       "      <td>166</td>\n",
       "      <td>53</td>\n",
       "    </tr>\n",
       "    <tr>\n",
       "      <th>1</th>\n",
       "      <td>康梃葦</td>\n",
       "      <td>168</td>\n",
       "      <td>85</td>\n",
       "    </tr>\n",
       "    <tr>\n",
       "      <th>2</th>\n",
       "      <td>陳世軒</td>\n",
       "      <td>167</td>\n",
       "      <td>75</td>\n",
       "    </tr>\n",
       "  </tbody>\n",
       "</table>\n",
       "</div>"
      ],
      "text/plain": [
       "  name  height  weight\n",
       "0  王妤平     166      53\n",
       "1  康梃葦     168      85\n",
       "2  陳世軒     167      75"
      ]
     },
     "execution_count": 2,
     "metadata": {},
     "output_type": "execute_result"
    }
   ],
   "source": [
    "data"
   ]
  },
  {
   "cell_type": "code",
   "execution_count": 3,
   "metadata": {
    "collapsed": false
   },
   "outputs": [],
   "source": [
    "def BMI(df):\n",
    "   d=[]\n",
    "   for index, row in data.iterrows():\n",
    "    bmi=round(row[\"weight\"]/((row[\"height\"]/100)**2),2)\n",
    "    print (row[\"name\"],' 的BMI:'+str(bmi))\n",
    "\n",
    "    if bmi<18.5:\n",
    "      print ('體重過輕唷，需要均衡飲食，以增加體能，維持健康！')\n",
    "    elif 18.5<=bmi<24:\n",
    "      print ('恭喜！體重正常，要繼續保持！')\n",
    "    elif 24<=bmi<27:\n",
    "     print ('體重過重了，要小心囉！')\n",
    "    elif 27<=bmi:\n",
    "     print ('啊～肥胖，需要立刻實施體重管理囉！')\n",
    "    print ('-'*25)\n",
    "    \n",
    "    d.append(bmi)\n",
    "   return d"
   ]
  },
  {
   "cell_type": "code",
   "execution_count": 4,
   "metadata": {
    "collapsed": false
   },
   "outputs": [
    {
     "name": "stdout",
     "output_type": "stream",
     "text": [
      "王妤平  的BMI:19.23\n",
      "恭喜！體重正常，要繼續保持！\n",
      "-------------------------\n",
      "康梃葦  的BMI:30.12\n",
      "啊～肥胖，需要立刻實施體重管理囉！\n",
      "-------------------------\n",
      "陳世軒  的BMI:26.89\n",
      "體重過重了，要小心囉！\n",
      "-------------------------\n",
      "[19.23, 30.12, 26.89]\n"
     ]
    }
   ],
   "source": [
    "data2=(BMI(data))\n",
    "print(data2)"
   ]
  },
  {
   "cell_type": "code",
   "execution_count": 5,
   "metadata": {
    "collapsed": false
   },
   "outputs": [
    {
     "data": {
      "text/html": [
       "<div>\n",
       "<table border=\"1\" class=\"dataframe\">\n",
       "  <thead>\n",
       "    <tr style=\"text-align: right;\">\n",
       "      <th></th>\n",
       "      <th>name</th>\n",
       "      <th>height</th>\n",
       "      <th>weight</th>\n",
       "    </tr>\n",
       "  </thead>\n",
       "  <tbody>\n",
       "    <tr>\n",
       "      <th>0</th>\n",
       "      <td>王妤平</td>\n",
       "      <td>166</td>\n",
       "      <td>53</td>\n",
       "    </tr>\n",
       "    <tr>\n",
       "      <th>1</th>\n",
       "      <td>康梃葦</td>\n",
       "      <td>168</td>\n",
       "      <td>85</td>\n",
       "    </tr>\n",
       "    <tr>\n",
       "      <th>2</th>\n",
       "      <td>陳世軒</td>\n",
       "      <td>167</td>\n",
       "      <td>75</td>\n",
       "    </tr>\n",
       "  </tbody>\n",
       "</table>\n",
       "</div>"
      ],
      "text/plain": [
       "  name  height  weight\n",
       "0  王妤平     166      53\n",
       "1  康梃葦     168      85\n",
       "2  陳世軒     167      75"
      ]
     },
     "execution_count": 5,
     "metadata": {},
     "output_type": "execute_result"
    }
   ],
   "source": [
    "data"
   ]
  },
  {
   "cell_type": "code",
   "execution_count": 6,
   "metadata": {
    "collapsed": false
   },
   "outputs": [
    {
     "data": {
      "text/html": [
       "<div>\n",
       "<table border=\"1\" class=\"dataframe\">\n",
       "  <thead>\n",
       "    <tr style=\"text-align: right;\">\n",
       "      <th></th>\n",
       "      <th>name</th>\n",
       "      <th>height</th>\n",
       "      <th>weight</th>\n",
       "      <th>bmi</th>\n",
       "    </tr>\n",
       "  </thead>\n",
       "  <tbody>\n",
       "    <tr>\n",
       "      <th>0</th>\n",
       "      <td>王妤平</td>\n",
       "      <td>166</td>\n",
       "      <td>53</td>\n",
       "      <td>19.23</td>\n",
       "    </tr>\n",
       "    <tr>\n",
       "      <th>1</th>\n",
       "      <td>康梃葦</td>\n",
       "      <td>168</td>\n",
       "      <td>85</td>\n",
       "      <td>30.12</td>\n",
       "    </tr>\n",
       "    <tr>\n",
       "      <th>2</th>\n",
       "      <td>陳世軒</td>\n",
       "      <td>167</td>\n",
       "      <td>75</td>\n",
       "      <td>26.89</td>\n",
       "    </tr>\n",
       "  </tbody>\n",
       "</table>\n",
       "</div>"
      ],
      "text/plain": [
       "  name  height  weight    bmi\n",
       "0  王妤平     166      53  19.23\n",
       "1  康梃葦     168      85  30.12\n",
       "2  陳世軒     167      75  26.89"
      ]
     },
     "execution_count": 6,
     "metadata": {},
     "output_type": "execute_result"
    }
   ],
   "source": [
    "data.insert(3, \"bmi\", data2)\n",
    "data"
   ]
  },
  {
   "cell_type": "code",
   "execution_count": 8,
   "metadata": {
    "collapsed": false
   },
   "outputs": [],
   "source": [
    "data.to_csv('bmi.csv')"
   ]
  },
  {
   "cell_type": "code",
   "execution_count": null,
   "metadata": {
    "collapsed": true
   },
   "outputs": [],
   "source": []
  }
 ],
 "metadata": {
  "kernelspec": {
   "display_name": "Python 3",
   "language": "python",
   "name": "python3"
  },
  "language_info": {
   "codemirror_mode": {
    "name": "ipython",
    "version": 3
   },
   "file_extension": ".py",
   "mimetype": "text/x-python",
   "name": "python",
   "nbconvert_exporter": "python",
   "pygments_lexer": "ipython3",
   "version": "3.6.0"
  }
 },
 "nbformat": 4,
 "nbformat_minor": 2
}
