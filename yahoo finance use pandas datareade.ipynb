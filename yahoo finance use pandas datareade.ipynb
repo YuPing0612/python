{
 "cells": [
  {
   "cell_type": "code",
   "execution_count": 1,
   "metadata": {
    "collapsed": false
   },
   "outputs": [
    {
     "data": {
      "text/html": [
       "<div>\n",
       "<table border=\"1\" class=\"dataframe\">\n",
       "  <thead>\n",
       "    <tr style=\"text-align: right;\">\n",
       "      <th></th>\n",
       "      <th>Open</th>\n",
       "      <th>High</th>\n",
       "      <th>Low</th>\n",
       "      <th>Close</th>\n",
       "      <th>Volume</th>\n",
       "      <th>Adj Close</th>\n",
       "    </tr>\n",
       "    <tr>\n",
       "      <th>Date</th>\n",
       "      <th></th>\n",
       "      <th></th>\n",
       "      <th></th>\n",
       "      <th></th>\n",
       "      <th></th>\n",
       "      <th></th>\n",
       "    </tr>\n",
       "  </thead>\n",
       "  <tbody>\n",
       "    <tr>\n",
       "      <th>2017-02-23</th>\n",
       "      <td>137.380005</td>\n",
       "      <td>137.479996</td>\n",
       "      <td>136.300003</td>\n",
       "      <td>136.529999</td>\n",
       "      <td>20704100</td>\n",
       "      <td>136.529999</td>\n",
       "    </tr>\n",
       "    <tr>\n",
       "      <th>2017-02-24</th>\n",
       "      <td>135.910004</td>\n",
       "      <td>136.660004</td>\n",
       "      <td>135.279999</td>\n",
       "      <td>136.660004</td>\n",
       "      <td>21690900</td>\n",
       "      <td>136.660004</td>\n",
       "    </tr>\n",
       "    <tr>\n",
       "      <th>2017-02-27</th>\n",
       "      <td>137.139999</td>\n",
       "      <td>137.440002</td>\n",
       "      <td>136.279999</td>\n",
       "      <td>136.929993</td>\n",
       "      <td>20196400</td>\n",
       "      <td>136.929993</td>\n",
       "    </tr>\n",
       "    <tr>\n",
       "      <th>2017-02-28</th>\n",
       "      <td>137.080002</td>\n",
       "      <td>137.440002</td>\n",
       "      <td>136.699997</td>\n",
       "      <td>136.990005</td>\n",
       "      <td>23403500</td>\n",
       "      <td>136.990005</td>\n",
       "    </tr>\n",
       "    <tr>\n",
       "      <th>2017-03-01</th>\n",
       "      <td>137.889999</td>\n",
       "      <td>140.149994</td>\n",
       "      <td>137.600006</td>\n",
       "      <td>139.789993</td>\n",
       "      <td>36272400</td>\n",
       "      <td>139.789993</td>\n",
       "    </tr>\n",
       "  </tbody>\n",
       "</table>\n",
       "</div>"
      ],
      "text/plain": [
       "                  Open        High         Low       Close    Volume  \\\n",
       "Date                                                                   \n",
       "2017-02-23  137.380005  137.479996  136.300003  136.529999  20704100   \n",
       "2017-02-24  135.910004  136.660004  135.279999  136.660004  21690900   \n",
       "2017-02-27  137.139999  137.440002  136.279999  136.929993  20196400   \n",
       "2017-02-28  137.080002  137.440002  136.699997  136.990005  23403500   \n",
       "2017-03-01  137.889999  140.149994  137.600006  139.789993  36272400   \n",
       "\n",
       "             Adj Close  \n",
       "Date                    \n",
       "2017-02-23  136.529999  \n",
       "2017-02-24  136.660004  \n",
       "2017-02-27  136.929993  \n",
       "2017-02-28  136.990005  \n",
       "2017-03-01  139.789993  "
      ]
     },
     "execution_count": 1,
     "metadata": {},
     "output_type": "execute_result"
    }
   ],
   "source": [
    "import pandas as pd\n",
    "import pandas_datareader.data as web\n",
    "import matplotlib.pyplot as plt\n",
    "import seaborn as sns\n",
    "import datetime as dt\n",
    "%matplotlib inline\n",
    "import pandas_datareader.data as web\n",
    "df1=web.DataReader('AAPL',data_source='yahoo',start='1/1/2016',end='3/1/2017')\n",
    "df1.tail()"
   ]
  },
  {
   "cell_type": "code",
   "execution_count": 2,
   "metadata": {
    "collapsed": false
   },
   "outputs": [
    {
     "data": {
      "text/html": [
       "<div>\n",
       "<table border=\"1\" class=\"dataframe\">\n",
       "  <thead>\n",
       "    <tr style=\"text-align: right;\">\n",
       "      <th></th>\n",
       "      <th>Open</th>\n",
       "      <th>High</th>\n",
       "      <th>Low</th>\n",
       "      <th>Close</th>\n",
       "      <th>Volume</th>\n",
       "      <th>Adj Close</th>\n",
       "    </tr>\n",
       "    <tr>\n",
       "      <th>Date</th>\n",
       "      <th></th>\n",
       "      <th></th>\n",
       "      <th></th>\n",
       "      <th></th>\n",
       "      <th></th>\n",
       "      <th></th>\n",
       "    </tr>\n",
       "  </thead>\n",
       "  <tbody>\n",
       "    <tr>\n",
       "      <th>2017-02-23</th>\n",
       "      <td>89.8</td>\n",
       "      <td>90.7</td>\n",
       "      <td>89.8</td>\n",
       "      <td>90.3</td>\n",
       "      <td>31489000</td>\n",
       "      <td>90.3</td>\n",
       "    </tr>\n",
       "    <tr>\n",
       "      <th>2017-02-24</th>\n",
       "      <td>89.8</td>\n",
       "      <td>90.3</td>\n",
       "      <td>89.5</td>\n",
       "      <td>89.5</td>\n",
       "      <td>31744000</td>\n",
       "      <td>89.5</td>\n",
       "    </tr>\n",
       "    <tr>\n",
       "      <th>2017-02-27</th>\n",
       "      <td>89.5</td>\n",
       "      <td>89.5</td>\n",
       "      <td>89.5</td>\n",
       "      <td>89.5</td>\n",
       "      <td>0</td>\n",
       "      <td>89.5</td>\n",
       "    </tr>\n",
       "    <tr>\n",
       "      <th>2017-02-28</th>\n",
       "      <td>89.5</td>\n",
       "      <td>89.5</td>\n",
       "      <td>89.5</td>\n",
       "      <td>89.5</td>\n",
       "      <td>0</td>\n",
       "      <td>89.5</td>\n",
       "    </tr>\n",
       "    <tr>\n",
       "      <th>2017-03-01</th>\n",
       "      <td>90.4</td>\n",
       "      <td>90.4</td>\n",
       "      <td>89.0</td>\n",
       "      <td>89.0</td>\n",
       "      <td>30429000</td>\n",
       "      <td>89.0</td>\n",
       "    </tr>\n",
       "  </tbody>\n",
       "</table>\n",
       "</div>"
      ],
      "text/plain": [
       "            Open  High   Low  Close    Volume  Adj Close\n",
       "Date                                                    \n",
       "2017-02-23  89.8  90.7  89.8   90.3  31489000       90.3\n",
       "2017-02-24  89.8  90.3  89.5   89.5  31744000       89.5\n",
       "2017-02-27  89.5  89.5  89.5   89.5         0       89.5\n",
       "2017-02-28  89.5  89.5  89.5   89.5         0       89.5\n",
       "2017-03-01  90.4  90.4  89.0   89.0  30429000       89.0"
      ]
     },
     "execution_count": 2,
     "metadata": {},
     "output_type": "execute_result"
    }
   ],
   "source": [
    "df2=web.DataReader('2317.TW',data_source='yahoo',start='1/1/2016',end='3/1/2017')\n",
    "df2.tail()"
   ]
  },
  {
   "cell_type": "code",
   "execution_count": 3,
   "metadata": {
    "collapsed": false
   },
   "outputs": [
    {
     "data": {
      "image/png": "[encoded data removed]",
      "text/plain": [
       "<matplotlib.figure.Figure at 0x20fb0ee1fd0>"
      ]
     },
     "metadata": {},
     "output_type": "display_data"
    }
   ],
   "source": [
    "df3 = pd.DataFrame()\n",
    "df3['apple'] = df1['Adj Close'].rolling(10).mean()\n",
    "df3['honhai'] = df2['Adj Close'].rolling(10).mean()\n",
    "\n",
    "\n",
    "df3 = pd.DataFrame({'apple': df3['apple'],'hon hai':df3['honhai']})\n",
    "df3.plot(figsize=(12, 9), legend=True,\n",
    "title='AAPL')\n",
    "\n",
    "fig = plt.gcf()\n",
    "fig.set_size_inches(12, 9)\n",
    "plt.show()"
   ]
  },
  {
   "cell_type": "code",
   "execution_count": null,
   "metadata": {
    "collapsed": true
   },
   "outputs": [],
   "source": []
  }
 ],
 "metadata": {
  "kernelspec": {
   "display_name": "Python 3",
   "language": "python",
   "name": "python3"
  },
  "language_info": {
   "codemirror_mode": {
    "name": "ipython",
    "version": 3
   },
   "file_extension": ".py",
   "mimetype": "text/x-python",
   "name": "python",
   "nbconvert_exporter": "python",
   "pygments_lexer": "ipython3",
   "version": "3.6.0"
  }
 },
 "nbformat": 4,
 "nbformat_minor": 2
}
