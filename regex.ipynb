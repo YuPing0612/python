{
 "cells": [
  {
   "cell_type": "markdown",
   "metadata": {},
   "source": [
    "https://regex101.com"
   ]
  },
  {
   "cell_type": "code",
   "execution_count": 1,
   "metadata": {
    "collapsed": false
   },
   "outputs": [
    {
     "name": "stdout",
     "output_type": "stream",
     "text": [
      "[('2.2', '')]\n",
      "[('', '22')]\n",
      "[('', '2')]\n"
     ]
    }
   ],
   "source": [
    "import re\n",
    "\n",
    "string='馬鈴薯2.2顆'\n",
    "key='.*?(\\d.\\d).*?|.*?(\\d{1,2}).*?'\n",
    "match = re.findall(key,string)\n",
    "print match\n",
    "\n",
    "string='馬鈴薯22顆'\n",
    "key='.*?(\\d.\\d).*?|.*?(\\d{1,2}).*?'\n",
    "match = re.findall(key,string)\n",
    "print match\n",
    "\n",
    "string='馬鈴薯2顆'\n",
    "key='.*?(\\d.\\d).*?|.*?(\\d{1,2}).*?'\n",
    "match = re.findall(key,string)\n",
    "print match"
   ]
  },
  {
   "cell_type": "code",
   "execution_count": 2,
   "metadata": {
    "collapsed": false
   },
   "outputs": [
    {
     "name": "stdout",
     "output_type": "stream",
     "text": [
      "not include  蔥\n",
      "not include  雞蛋\n",
      "include  雞肉\n",
      "雞肉 [('', '1')]\n",
      "include  蒜末\n",
      "蒜末 [('', '2')]\n"
     ]
    }
   ],
   "source": [
    "import re\n",
    "Ingredients=['蔥','雞蛋','雞肉','蒜末']\n",
    "food='蒜末2匙 雞肉1斤 芹菜1把'\n",
    "for i in Ingredients:\n",
    "    if food.find(i)>-1:\n",
    "        print 'include ',i\n",
    "        \n",
    "        key=i+'(\\d.\\d)|'+i+'(\\d{1,2})'\n",
    "        match = re.findall(key,food)\n",
    "        print i,match\n",
    "    else:\n",
    "        print 'not include ',i"
   ]
  },
  {
   "cell_type": "code",
   "execution_count": null,
   "metadata": {
    "collapsed": true
   },
   "outputs": [],
   "source": []
  }
 ],
 "metadata": {
  "kernelspec": {
   "display_name": "Python [Root]",
   "language": "python",
   "name": "Python [Root]"
  },
  "language_info": {
   "codemirror_mode": {
    "name": "ipython",
    "version": 2
   },
   "file_extension": ".py",
   "mimetype": "text/x-python",
   "name": "python",
   "nbconvert_exporter": "python",
   "pygments_lexer": "ipython2",
   "version": "2.7.12"
  }
 },
 "nbformat": 4,
 "nbformat_minor": 2
}
